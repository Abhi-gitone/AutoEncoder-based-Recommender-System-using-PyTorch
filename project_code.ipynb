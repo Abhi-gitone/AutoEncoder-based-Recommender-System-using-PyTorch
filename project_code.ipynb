{
 "cells": [
  {
   "cell_type": "markdown",
   "id": "326e3c69",
   "metadata": {},
   "source": [
    "**Dataset**: [MovieLens Dataset](http://grouplens.org/datasets/movielens/) from grouplens.org.\n",
    "\n",
    "**Task**: To build a recommender system using [AutoEncoders](http://en.wikipedia.org/wiki/Autoencoder)."
   ]
  },
  {
   "cell_type": "code",
   "execution_count": 1,
   "id": "dcbb7a48",
   "metadata": {},
   "outputs": [],
   "source": [
    "## package imports\n",
    "\n",
    "import numpy as np\n",
    "import pandas as pd\n",
    "\n",
    "import torch\n",
    "import torch.nn as nn\n",
    "import torch.nn.parallel\n",
    "import torch.optim as optim\n",
    "import torch.utils.data\n",
    "from torch.autograd import Variable\n",
    "\n",
    "import matplotlib.pyplot as plt"
   ]
  },
  {
   "cell_type": "code",
   "execution_count": 2,
   "id": "fb4a1c76",
   "metadata": {},
   "outputs": [],
   "source": [
    "## data import\n",
    "\n",
    "train = pd.read_csv('ml-100k/u1.base', sep='\\t', header=None)\n",
    "test = pd.read_csv('ml-100k/u1.test', sep='\\t', header=None)"
   ]
  },
  {
   "cell_type": "code",
   "execution_count": 3,
   "id": "64b6d955",
   "metadata": {},
   "outputs": [
    {
     "data": {
      "text/html": [
       "<div>\n",
       "<style scoped>\n",
       "    .dataframe tbody tr th:only-of-type {\n",
       "        vertical-align: middle;\n",
       "    }\n",
       "\n",
       "    .dataframe tbody tr th {\n",
       "        vertical-align: top;\n",
       "    }\n",
       "\n",
       "    .dataframe thead th {\n",
       "        text-align: right;\n",
       "    }\n",
       "</style>\n",
       "<table border=\"1\" class=\"dataframe\">\n",
       "  <thead>\n",
       "    <tr style=\"text-align: right;\">\n",
       "      <th></th>\n",
       "      <th>0</th>\n",
       "      <th>1</th>\n",
       "      <th>2</th>\n",
       "      <th>3</th>\n",
       "    </tr>\n",
       "  </thead>\n",
       "  <tbody>\n",
       "    <tr>\n",
       "      <th>0</th>\n",
       "      <td>1</td>\n",
       "      <td>1</td>\n",
       "      <td>5</td>\n",
       "      <td>874965758</td>\n",
       "    </tr>\n",
       "    <tr>\n",
       "      <th>1</th>\n",
       "      <td>1</td>\n",
       "      <td>2</td>\n",
       "      <td>3</td>\n",
       "      <td>876893171</td>\n",
       "    </tr>\n",
       "    <tr>\n",
       "      <th>2</th>\n",
       "      <td>1</td>\n",
       "      <td>3</td>\n",
       "      <td>4</td>\n",
       "      <td>878542960</td>\n",
       "    </tr>\n",
       "    <tr>\n",
       "      <th>3</th>\n",
       "      <td>1</td>\n",
       "      <td>4</td>\n",
       "      <td>3</td>\n",
       "      <td>876893119</td>\n",
       "    </tr>\n",
       "    <tr>\n",
       "      <th>4</th>\n",
       "      <td>1</td>\n",
       "      <td>5</td>\n",
       "      <td>3</td>\n",
       "      <td>889751712</td>\n",
       "    </tr>\n",
       "  </tbody>\n",
       "</table>\n",
       "</div>"
      ],
      "text/plain": [
       "   0  1  2          3\n",
       "0  1  1  5  874965758\n",
       "1  1  2  3  876893171\n",
       "2  1  3  4  878542960\n",
       "3  1  4  3  876893119\n",
       "4  1  5  3  889751712"
      ]
     },
     "execution_count": 3,
     "metadata": {},
     "output_type": "execute_result"
    }
   ],
   "source": [
    "train.head()"
   ]
  },
  {
   "cell_type": "code",
   "execution_count": 4,
   "id": "a0e89812",
   "metadata": {},
   "outputs": [
    {
     "data": {
      "text/html": [
       "<div>\n",
       "<style scoped>\n",
       "    .dataframe tbody tr th:only-of-type {\n",
       "        vertical-align: middle;\n",
       "    }\n",
       "\n",
       "    .dataframe tbody tr th {\n",
       "        vertical-align: top;\n",
       "    }\n",
       "\n",
       "    .dataframe thead th {\n",
       "        text-align: right;\n",
       "    }\n",
       "</style>\n",
       "<table border=\"1\" class=\"dataframe\">\n",
       "  <thead>\n",
       "    <tr style=\"text-align: right;\">\n",
       "      <th></th>\n",
       "      <th>0</th>\n",
       "      <th>1</th>\n",
       "      <th>2</th>\n",
       "      <th>3</th>\n",
       "    </tr>\n",
       "  </thead>\n",
       "  <tbody>\n",
       "    <tr>\n",
       "      <th>0</th>\n",
       "      <td>1</td>\n",
       "      <td>6</td>\n",
       "      <td>5</td>\n",
       "      <td>887431973</td>\n",
       "    </tr>\n",
       "    <tr>\n",
       "      <th>1</th>\n",
       "      <td>1</td>\n",
       "      <td>10</td>\n",
       "      <td>3</td>\n",
       "      <td>875693118</td>\n",
       "    </tr>\n",
       "    <tr>\n",
       "      <th>2</th>\n",
       "      <td>1</td>\n",
       "      <td>12</td>\n",
       "      <td>5</td>\n",
       "      <td>878542960</td>\n",
       "    </tr>\n",
       "    <tr>\n",
       "      <th>3</th>\n",
       "      <td>1</td>\n",
       "      <td>14</td>\n",
       "      <td>5</td>\n",
       "      <td>874965706</td>\n",
       "    </tr>\n",
       "    <tr>\n",
       "      <th>4</th>\n",
       "      <td>1</td>\n",
       "      <td>17</td>\n",
       "      <td>3</td>\n",
       "      <td>875073198</td>\n",
       "    </tr>\n",
       "  </tbody>\n",
       "</table>\n",
       "</div>"
      ],
      "text/plain": [
       "   0   1  2          3\n",
       "0  1   6  5  887431973\n",
       "1  1  10  3  875693118\n",
       "2  1  12  5  878542960\n",
       "3  1  14  5  874965706\n",
       "4  1  17  3  875073198"
      ]
     },
     "execution_count": 4,
     "metadata": {},
     "output_type": "execute_result"
    }
   ],
   "source": [
    "test.head()"
   ]
  },
  {
   "cell_type": "markdown",
   "id": "a7deb651",
   "metadata": {},
   "source": [
    "**Important**: Columns '0', '1', '2', and '3', represent users, movies, ratings, and timestamps respectively."
   ]
  },
  {
   "cell_type": "raw",
   "id": "940ab6b5",
   "metadata": {},
   "source": [
    "Step 1: Data processing"
   ]
  },
  {
   "cell_type": "code",
   "execution_count": 5,
   "id": "bb05371c",
   "metadata": {},
   "outputs": [],
   "source": [
    "## converting train and test sets into arrays\n",
    "\n",
    "train = np.array(train, dtype=int)\n",
    "test = np.array(test, dtype=int)\n",
    "\n",
    "## getting number of users and movies\n",
    "\n",
    "num_users = int(max(max(train[:,0]), max(test[:,0])))\n",
    "num_movies = int(max(max(train[:,1]), max(test[:,1])))"
   ]
  },
  {
   "cell_type": "code",
   "execution_count": 6,
   "id": "88fc442a",
   "metadata": {},
   "outputs": [
    {
     "data": {
      "text/plain": [
       "943"
      ]
     },
     "execution_count": 6,
     "metadata": {},
     "output_type": "execute_result"
    }
   ],
   "source": [
    "num_users"
   ]
  },
  {
   "cell_type": "code",
   "execution_count": 7,
   "id": "3858608d",
   "metadata": {},
   "outputs": [
    {
     "data": {
      "text/plain": [
       "1682"
      ]
     },
     "execution_count": 7,
     "metadata": {},
     "output_type": "execute_result"
    }
   ],
   "source": [
    "num_movies"
   ]
  },
  {
   "cell_type": "code",
   "execution_count": 8,
   "id": "a6c6cd3a",
   "metadata": {},
   "outputs": [],
   "source": [
    "## coverting datasets into a list of lists of dimension (num_users, num_movies) for pytorch tensor compatibility\n",
    "\n",
    "def convert(data): ## function to convert\n",
    "    \n",
    "    final_list = list() ## initialization\n",
    "    \n",
    "    for user_id in range(1, num_users + 1):\n",
    "        \n",
    "        user_movies = data[:,1][data[:,0]==user_id] ## all movies rated by user\n",
    "        user_ratings = data[:,2][data[:,0]==user_id] ## all ratings by user\n",
    "        \n",
    "        user_all_movies = np.zeros(num_movies) ## user ratings for each movie. 0 for urated morvies.\n",
    "        user_all_movies[user_movies-1] = user_ratings\n",
    "            \n",
    "        final_list.append(user_all_movies)\n",
    "    \n",
    "    return final_list\n",
    "\n",
    "train, test = convert(train), convert(test) ## data format conversion"
   ]
  },
  {
   "cell_type": "code",
   "execution_count": 9,
   "id": "2fb88cd6",
   "metadata": {},
   "outputs": [
    {
     "data": {
      "text/plain": [
       "array([5., 3., 4., ..., 0., 0., 0.])"
      ]
     },
     "execution_count": 9,
     "metadata": {},
     "output_type": "execute_result"
    }
   ],
   "source": [
    "train[0]"
   ]
  },
  {
   "cell_type": "code",
   "execution_count": 10,
   "id": "3a1485cd",
   "metadata": {},
   "outputs": [
    {
     "data": {
      "text/plain": [
       "array([0., 0., 0., ..., 0., 0., 0.])"
      ]
     },
     "execution_count": 10,
     "metadata": {},
     "output_type": "execute_result"
    }
   ],
   "source": [
    "test[0]"
   ]
  },
  {
   "cell_type": "code",
   "execution_count": 11,
   "id": "7736c8bf",
   "metadata": {},
   "outputs": [
    {
     "name": "stderr",
     "output_type": "stream",
     "text": [
      "C:\\Users\\abhin\\anaconda3\\envs\\nlp_course\\lib\\site-packages\\ipykernel_launcher.py:3: UserWarning: Creating a tensor from a list of numpy.ndarrays is extremely slow. Please consider converting the list to a single numpy.ndarray with numpy.array() before converting to a tensor. (Triggered internally at C:\\cb\\pytorch_1000000000000\\work\\torch\\csrc\\utils\\tensor_new.cpp:233.)\n",
      "  This is separate from the ipykernel package so we can avoid doing imports until\n"
     ]
    }
   ],
   "source": [
    "## converting into pytorch tensors of dimensions (num_users, num_movies)\n",
    "\n",
    "train = torch.FloatTensor(train)\n",
    "test = torch.FloatTensor(test)"
   ]
  },
  {
   "cell_type": "code",
   "execution_count": 12,
   "id": "510aaa53",
   "metadata": {},
   "outputs": [
    {
     "data": {
      "text/plain": [
       "tensor([[5., 3., 4.,  ..., 0., 0., 0.],\n",
       "        [4., 0., 0.,  ..., 0., 0., 0.],\n",
       "        [0., 0., 0.,  ..., 0., 0., 0.],\n",
       "        ...,\n",
       "        [5., 0., 0.,  ..., 0., 0., 0.],\n",
       "        [0., 0., 0.,  ..., 0., 0., 0.],\n",
       "        [0., 5., 0.,  ..., 0., 0., 0.]])"
      ]
     },
     "execution_count": 12,
     "metadata": {},
     "output_type": "execute_result"
    }
   ],
   "source": [
    "train"
   ]
  },
  {
   "cell_type": "code",
   "execution_count": 13,
   "id": "2fbd154d",
   "metadata": {},
   "outputs": [
    {
     "data": {
      "text/plain": [
       "tensor([[0., 0., 0.,  ..., 0., 0., 0.],\n",
       "        [0., 0., 0.,  ..., 0., 0., 0.],\n",
       "        [0., 0., 0.,  ..., 0., 0., 0.],\n",
       "        ...,\n",
       "        [0., 0., 0.,  ..., 0., 0., 0.],\n",
       "        [0., 0., 0.,  ..., 0., 0., 0.],\n",
       "        [0., 0., 0.,  ..., 0., 0., 0.]])"
      ]
     },
     "execution_count": 13,
     "metadata": {},
     "output_type": "execute_result"
    }
   ],
   "source": [
    "test"
   ]
  },
  {
   "cell_type": "code",
   "execution_count": 14,
   "id": "c344f5eb",
   "metadata": {},
   "outputs": [
    {
     "data": {
      "text/plain": [
       "torch.Size([943, 1682])"
      ]
     },
     "execution_count": 14,
     "metadata": {},
     "output_type": "execute_result"
    }
   ],
   "source": [
    "train.shape"
   ]
  },
  {
   "cell_type": "code",
   "execution_count": 15,
   "id": "11a82c18",
   "metadata": {},
   "outputs": [
    {
     "data": {
      "text/plain": [
       "torch.Size([943, 1682])"
      ]
     },
     "execution_count": 15,
     "metadata": {},
     "output_type": "execute_result"
    }
   ],
   "source": [
    "test.shape"
   ]
  },
  {
   "cell_type": "raw",
   "id": "0d06690f",
   "metadata": {},
   "source": [
    "Step 2: Model building"
   ]
  },
  {
   "cell_type": "code",
   "execution_count": 16,
   "id": "67b0076a",
   "metadata": {},
   "outputs": [],
   "source": [
    "## creating autoencoder architecture\n",
    "\n",
    "## creating a class\n",
    "\n",
    "class StackedAutoEncoder(torch.nn.Module): ## inheriting methods and functions from the nn.Module class\n",
    "    \n",
    "    def __init__(self): ## neurons --> list of neurons for the three layers of the SAE in format (l1, l2, l3)\n",
    "        \n",
    "        super(StackedAutoEncoder, self).__init__() ## to inherit from the parent class\n",
    "        \n",
    "        self.fc1 = torch.nn.Linear(in_features=num_movies, out_features=40) ## first full connection\n",
    "        \n",
    "        self.fc2 = torch.nn.Linear(in_features=40, out_features=20) ## second full connection\n",
    "        \n",
    "        self.fc3 = torch.nn.Linear(in_features=20, out_features=40) ## third full connection\n",
    "        \n",
    "        self.fc4 = torch.nn.Linear(in_features=40, out_features=num_movies) ## fourth full connection\n",
    "        \n",
    "        self.activation = torch.nn.Tanh() ## specifying hyperbolic tangent as activation for the three hidden layers\n",
    "        \n",
    "        \n",
    "    ## function for forward propagation\n",
    "    \n",
    "    def forward(self, x): ## x --> input vector\n",
    "        \n",
    "        x = self.activation(self.fc1(x)) ## encoding one, (num_movies --> 40)\n",
    "        \n",
    "        x = self.activation(self.fc2(x)) ## encoding two, (40 --> 20)\n",
    "        \n",
    "        x = self.activation(self.fc3(x)) ## decoding one, (20 --> 40)\n",
    "        \n",
    "        x = self.fc4(x) ## decoding two, (40 --> num_movies), no activation function for output layer\n",
    "        \n",
    "        return x"
   ]
  },
  {
   "cell_type": "code",
   "execution_count": 17,
   "id": "57128e66",
   "metadata": {},
   "outputs": [],
   "source": [
    "## creating object of StackedAutoEncoder class\n",
    "\n",
    "sae = StackedAutoEncoder()\n",
    "\n",
    "criterion = nn.MSELoss() ## mean squared error\n",
    "\n",
    "optimizer = optim.RMSprop(params=sae.parameters(), lr=0.01, weight_decay=0.5)"
   ]
  },
  {
   "cell_type": "raw",
   "id": "0dc1cbe5",
   "metadata": {},
   "source": [
    "Step 5: Model training"
   ]
  },
  {
   "cell_type": "code",
   "execution_count": 18,
   "id": "d5dc57b2",
   "metadata": {},
   "outputs": [
    {
     "name": "stdout",
     "output_type": "stream",
     "text": [
      "epoch: 1       train_loss: 1.9409408840146465\n",
      "epoch: 2       train_loss: 1.0812986893733467\n",
      "epoch: 3       train_loss: 1.0584797202449872\n",
      "epoch: 4       train_loss: 1.0503639053937657\n",
      "epoch: 5       train_loss: 1.0496793104903426\n",
      "epoch: 6       train_loss: 1.0467643640707966\n",
      "epoch: 7       train_loss: 1.0446166693069898\n",
      "epoch: 8       train_loss: 1.0431896098518425\n",
      "epoch: 9       train_loss: 1.041605496781001\n",
      "epoch: 10      train_loss: 1.039868172597204\n",
      "epoch: 11      train_loss: 1.0398578010341974\n",
      "epoch: 12      train_loss: 1.0385515872698505\n",
      "epoch: 13      train_loss: 1.0380546859755901\n",
      "epoch: 14      train_loss: 1.0365259269246376\n",
      "epoch: 15      train_loss: 1.0359406209514108\n",
      "epoch: 16      train_loss: 1.0357289807992263\n",
      "epoch: 17      train_loss: 1.0359037947003118\n",
      "epoch: 18      train_loss: 1.0349561815606771\n",
      "epoch: 19      train_loss: 1.0335923460765462\n",
      "epoch: 20      train_loss: 1.0319299728997435\n",
      "epoch: 21      train_loss: 1.0296383041430932\n",
      "epoch: 22      train_loss: 1.02455288823305\n",
      "epoch: 23      train_loss: 1.0195694970900377\n",
      "epoch: 24      train_loss: 1.0203323500731007\n",
      "epoch: 25      train_loss: 1.013569797740584\n",
      "epoch: 26      train_loss: 1.0126578464549352\n",
      "epoch: 27      train_loss: 1.0145609812488106\n",
      "epoch: 28      train_loss: 1.0059724353916522\n",
      "epoch: 29      train_loss: 1.0069498772812486\n",
      "epoch: 30      train_loss: 1.003780960542067\n",
      "epoch: 31      train_loss: 1.0042860408866412\n",
      "epoch: 32      train_loss: 1.0023678366317272\n",
      "epoch: 33      train_loss: 1.0009107288186134\n",
      "epoch: 34      train_loss: 0.9965202670568548\n",
      "epoch: 35      train_loss: 0.9922974598235202\n",
      "epoch: 36      train_loss: 0.9921507352710346\n",
      "epoch: 37      train_loss: 0.9947019066463082\n",
      "epoch: 38      train_loss: 0.9893529855890156\n",
      "epoch: 39      train_loss: 0.9905155375871674\n",
      "epoch: 40      train_loss: 0.9866432886201186\n",
      "epoch: 41      train_loss: 0.9831597083795718\n",
      "epoch: 42      train_loss: 0.9800069325808913\n",
      "epoch: 43      train_loss: 0.9781439544951067\n",
      "epoch: 44      train_loss: 0.9795662150082564\n",
      "epoch: 45      train_loss: 0.9769550853249178\n",
      "epoch: 46      train_loss: 0.9734227661742049\n",
      "epoch: 47      train_loss: 0.968705045235964\n",
      "epoch: 48      train_loss: 0.9675503114921304\n",
      "epoch: 49      train_loss: 0.9626732587596685\n",
      "epoch: 50      train_loss: 0.965679915291417\n",
      "epoch: 51      train_loss: 0.9694158536642022\n",
      "epoch: 52      train_loss: 0.9664202094561329\n",
      "epoch: 53      train_loss: 0.9675504218366812\n",
      "epoch: 54      train_loss: 0.9639135140863507\n",
      "epoch: 55      train_loss: 0.9676415846543378\n",
      "epoch: 56      train_loss: 0.9860483054475869\n",
      "epoch: 57      train_loss: 0.9787306429872737\n",
      "epoch: 58      train_loss: 0.979357671039957\n",
      "epoch: 59      train_loss: 0.9793721579667671\n",
      "epoch: 60      train_loss: 0.9822750105294239\n",
      "epoch: 61      train_loss: 0.9802451132791358\n",
      "epoch: 62      train_loss: 0.9771636258568788\n",
      "epoch: 63      train_loss: 0.9652888966586234\n",
      "epoch: 64      train_loss: 0.9593833328462098\n",
      "epoch: 65      train_loss: 0.9588869009790908\n",
      "epoch: 66      train_loss: 0.9595658874733899\n",
      "epoch: 67      train_loss: 0.960390668714341\n",
      "epoch: 68      train_loss: 0.9642414947397867\n",
      "epoch: 69      train_loss: 0.9671370912212905\n",
      "epoch: 70      train_loss: 0.9615823566219719\n",
      "epoch: 71      train_loss: 0.9586815895443717\n",
      "epoch: 72      train_loss: 0.9541753498146412\n",
      "epoch: 73      train_loss: 0.9499909038285631\n",
      "epoch: 74      train_loss: 0.9480212916548967\n",
      "epoch: 75      train_loss: 0.945322369066903\n",
      "epoch: 76      train_loss: 0.9529072668459292\n",
      "epoch: 77      train_loss: 0.9595192257187921\n",
      "epoch: 78      train_loss: 0.9554064517902368\n",
      "epoch: 79      train_loss: 0.963008289144255\n",
      "epoch: 80      train_loss: 0.9597592379497655\n",
      "epoch: 81      train_loss: 0.9523476373677363\n",
      "epoch: 82      train_loss: 0.9504635742396083\n",
      "epoch: 83      train_loss: 0.9511371830840979\n",
      "epoch: 84      train_loss: 0.9584295242861384\n",
      "epoch: 85      train_loss: 0.9496870747405862\n",
      "epoch: 86      train_loss: 0.9435867819312684\n",
      "epoch: 87      train_loss: 0.9371078817808234\n",
      "epoch: 88      train_loss: 0.9337022205027274\n",
      "epoch: 89      train_loss: 0.941823178419627\n",
      "epoch: 90      train_loss: 0.9332308238574011\n",
      "epoch: 91      train_loss: 0.932256606735832\n",
      "epoch: 92      train_loss: 0.9287001269453167\n",
      "epoch: 93      train_loss: 0.9243669514935132\n",
      "epoch: 94      train_loss: 0.9219968841956738\n",
      "epoch: 95      train_loss: 0.9247364855223171\n",
      "epoch: 96      train_loss: 0.918824177043918\n",
      "epoch: 97      train_loss: 0.9163164779862772\n",
      "epoch: 98      train_loss: 0.9127673638105813\n",
      "epoch: 99      train_loss: 0.9116505790061171\n",
      "epoch: 100     train_loss: 0.915831966404876\n",
      "epoch: 101     train_loss: 0.9129368740806373\n",
      "epoch: 102     train_loss: 0.9103841206931951\n",
      "epoch: 103     train_loss: 0.9069830012145738\n",
      "epoch: 104     train_loss: 0.9049834452236049\n",
      "epoch: 105     train_loss: 0.9099109324536677\n",
      "epoch: 106     train_loss: 0.9041780028331904\n",
      "epoch: 107     train_loss: 0.9039019380290905\n",
      "epoch: 108     train_loss: 0.8999811610954586\n",
      "epoch: 109     train_loss: 0.8972438984505994\n",
      "epoch: 110     train_loss: 0.8943309928796791\n",
      "epoch: 111     train_loss: 0.8932988923832842\n",
      "epoch: 112     train_loss: 0.8980580625685053\n",
      "epoch: 113     train_loss: 0.9055816583136727\n",
      "epoch: 114     train_loss: 0.8980285553561412\n",
      "epoch: 115     train_loss: 0.9071681952168719\n",
      "epoch: 116     train_loss: 0.9135201040539112\n",
      "epoch: 117     train_loss: 0.9109898105434857\n",
      "epoch: 118     train_loss: 0.9084730482748439\n",
      "epoch: 119     train_loss: 0.9098019474146795\n",
      "epoch: 120     train_loss: 0.8999572998657921\n",
      "epoch: 121     train_loss: 0.8950708328036354\n",
      "epoch: 122     train_loss: 0.9000528904807241\n",
      "epoch: 123     train_loss: 0.9042816170139621\n",
      "epoch: 124     train_loss: 0.9034441797368946\n",
      "epoch: 125     train_loss: 0.9054791611403582\n",
      "epoch: 126     train_loss: 0.914868818666703\n",
      "epoch: 127     train_loss: 0.9177618054172992\n",
      "epoch: 128     train_loss: 0.9111268884666884\n",
      "epoch: 129     train_loss: 0.9121148203600299\n",
      "epoch: 130     train_loss: 0.9139007847174232\n",
      "epoch: 131     train_loss: 0.9104405439958588\n",
      "epoch: 132     train_loss: 0.9131054237219536\n",
      "epoch: 133     train_loss: 0.9051342609676934\n",
      "epoch: 134     train_loss: 0.9127906204286077\n",
      "epoch: 135     train_loss: 0.9061591081484862\n",
      "epoch: 136     train_loss: 0.9042144756594929\n",
      "epoch: 137     train_loss: 0.8967524246858309\n",
      "epoch: 138     train_loss: 0.8929763324495996\n",
      "epoch: 139     train_loss: 0.8938140717200621\n",
      "epoch: 140     train_loss: 0.8915101709771556\n",
      "epoch: 141     train_loss: 0.8882858454349715\n",
      "epoch: 142     train_loss: 0.885385725476162\n",
      "epoch: 143     train_loss: 0.8834722882417907\n",
      "epoch: 144     train_loss: 0.8812381591568935\n",
      "epoch: 145     train_loss: 0.8797283188522459\n",
      "epoch: 146     train_loss: 0.8782659429655446\n",
      "epoch: 147     train_loss: 0.8768358371135178\n",
      "epoch: 148     train_loss: 0.8750212519443644\n",
      "epoch: 149     train_loss: 0.8748381027691708\n",
      "epoch: 150     train_loss: 0.8727144669175139\n",
      "epoch: 151     train_loss: 0.8825053161827129\n",
      "epoch: 152     train_loss: 0.8861896871669583\n",
      "epoch: 153     train_loss: 0.883587519503909\n",
      "epoch: 154     train_loss: 0.8758436364273964\n",
      "epoch: 155     train_loss: 0.8767127250383628\n",
      "epoch: 156     train_loss: 0.8786795992659995\n",
      "epoch: 157     train_loss: 0.8776969772520797\n",
      "epoch: 158     train_loss: 0.8762437334973223\n",
      "epoch: 159     train_loss: 0.8933143558212544\n",
      "epoch: 160     train_loss: 0.9031684211903851\n",
      "epoch: 161     train_loss: 0.8860908428171297\n",
      "epoch: 162     train_loss: 0.8898810320881688\n",
      "epoch: 163     train_loss: 0.8908388831647261\n",
      "epoch: 164     train_loss: 0.8848163709555477\n",
      "epoch: 165     train_loss: 0.8815365372108817\n",
      "epoch: 166     train_loss: 0.8821037419644026\n",
      "epoch: 167     train_loss: 0.8770542462456566\n",
      "epoch: 168     train_loss: 0.8761795048550648\n",
      "epoch: 169     train_loss: 0.8830804692322166\n",
      "epoch: 170     train_loss: 0.8786975958223069\n",
      "epoch: 171     train_loss: 0.8741380660457453\n",
      "epoch: 172     train_loss: 0.8739602464760079\n",
      "epoch: 173     train_loss: 0.8705416198198054\n",
      "epoch: 174     train_loss: 0.8688700918874566\n",
      "epoch: 175     train_loss: 0.8697701387993249\n",
      "epoch: 176     train_loss: 0.8712665127065986\n",
      "epoch: 177     train_loss: 0.8666712386111418\n",
      "epoch: 178     train_loss: 0.8760252180475733\n",
      "epoch: 179     train_loss: 0.8921839590078714\n"
     ]
    },
    {
     "name": "stdout",
     "output_type": "stream",
     "text": [
      "epoch: 180     train_loss: 0.8833625748404588\n",
      "epoch: 181     train_loss: 0.8781487627925684\n",
      "epoch: 182     train_loss: 0.875884688272722\n",
      "epoch: 183     train_loss: 0.8721453169386936\n",
      "epoch: 184     train_loss: 0.8690907020006003\n",
      "epoch: 185     train_loss: 0.8689939502933893\n",
      "epoch: 186     train_loss: 0.8667575647104216\n",
      "epoch: 187     train_loss: 0.8653124380516461\n",
      "epoch: 188     train_loss: 0.8694993541252302\n",
      "epoch: 189     train_loss: 0.8662848978712476\n",
      "epoch: 190     train_loss: 0.8651984906978828\n",
      "epoch: 191     train_loss: 0.8629886685300461\n",
      "epoch: 192     train_loss: 0.8613548281141752\n",
      "epoch: 193     train_loss: 0.8615385436128824\n",
      "epoch: 194     train_loss: 0.860918200371808\n",
      "epoch: 195     train_loss: 0.8618191373426015\n",
      "epoch: 196     train_loss: 0.8600129223263995\n",
      "epoch: 197     train_loss: 0.8577229403441412\n",
      "epoch: 198     train_loss: 0.8556638204578686\n",
      "epoch: 199     train_loss: 0.8610906211459529\n",
      "epoch: 200     train_loss: 0.8708069117143478\n"
     ]
    }
   ],
   "source": [
    "## training the auto encoder\n",
    "\n",
    "epochs = 200\n",
    "\n",
    "train_loss_list = list() ## to collect value of loss over epochs\n",
    "\n",
    "for epoch in range(1, epochs+1):\n",
    "    \n",
    "    train_loss = 0\n",
    "    \n",
    "    counter = 0. ## to count observations containing atleast one rating\n",
    "    \n",
    "    for user_id in range(num_users):\n",
    "        \n",
    "        inpt = torch.autograd.Variable(train[[user_id]]) ## pytorch requires multidimensional vectors as inputs\n",
    "        \n",
    "        target = inpt.clone() ## remains unchanged, used for evaluation and back propagation\n",
    "        \n",
    "        if torch.sum(target.data > 0) > 0: ## filter observations with no ratings to save memory\n",
    "            \n",
    "            output = sae.forward(inpt) ## forward propagation\n",
    "            \n",
    "            target.require_grad = False ## target not used for gradient optimization to save memory\n",
    "            \n",
    "            output[target == 0] = 0 ## setting indices representing unrated movies back to 0 to avoid error\n",
    "            \n",
    "            loss = criterion(output, target)\n",
    "            \n",
    "            mean_corrector = num_movies/float(torch.sum(target.data > 0) + 1e-100) ## helps adjust mse for only rated movies\n",
    "            \n",
    "            loss.backward() ## fetch direction for weight optimization\n",
    "            \n",
    "            train_loss += np.sqrt(loss.data.item()*mean_corrector) ## update train loss with corrected MSE and sqrt to get RMSE\n",
    "            \n",
    "            counter += 1.\n",
    "            \n",
    "            optimizer.step() ## fetch magnitude for weight optimization\n",
    "    \n",
    "    train_loss_list.append(train_loss/counter)\n",
    "            \n",
    "    print(f\"epoch: {epoch:<{7}} train_loss: {train_loss/counter}\")"
   ]
  },
  {
   "cell_type": "code",
   "execution_count": 19,
   "id": "d0eafda8",
   "metadata": {},
   "outputs": [
    {
     "data": {
      "image/png": "[encoded data removed]",
      "text/plain": [
       "<Figure size 1600x800 with 1 Axes>"
      ]
     },
     "metadata": {},
     "output_type": "display_data"
    }
   ],
   "source": [
    "## plot of loss over epochs\n",
    "\n",
    "fig, ax = plt.subplots(figsize=(16,8))\n",
    "\n",
    "ax.plot(train_loss_list)\n",
    "ax.set_xlabel('Epochs')\n",
    "ax.set_ylabel('RMSE Loss')\n",
    "\n",
    "plt.show()"
   ]
  },
  {
   "cell_type": "raw",
   "id": "e9ce7765",
   "metadata": {},
   "source": [
    "Step 5: Model testing"
   ]
  },
  {
   "cell_type": "code",
   "execution_count": 20,
   "id": "9b255d02",
   "metadata": {},
   "outputs": [
    {
     "name": "stdout",
     "output_type": "stream",
     "text": [
      "test_loss: 1.060441858531912\n"
     ]
    }
   ],
   "source": [
    "test_loss = 0\n",
    "    \n",
    "counter = 0. ## to count observations containing atleast one rating\n",
    "    \n",
    "for user_id in range(num_users):\n",
    "        \n",
    "    inpt = torch.autograd.Variable(train[[user_id]]) ## VERY IMPORTANT --> why train?\n",
    "        \n",
    "    target = torch.autograd.Variable(test[[user_id]])\n",
    "        \n",
    "    if torch.sum(target.data > 0) > 0: ## filter observations with no ratings to save memory\n",
    "            \n",
    "        output = sae.forward(inpt) ## forward propagation\n",
    "            \n",
    "        target.require_grad = False ## target not used for gradient optimization to save memory\n",
    "            \n",
    "        output[target == 0] = 0 ## setting indices representing unrated movies back to 0 to avoid error\n",
    "            \n",
    "        loss = criterion(output, target)\n",
    "            \n",
    "        mean_corrector = num_movies/float(torch.sum(target.data > 0) + 1e-100) ## helps adjust mse for only rated movies\n",
    "            \n",
    "        test_loss += np.sqrt(loss.data.item()*mean_corrector) ## update train loss with corrected MSE and sqrt to get RMSE\n",
    "            \n",
    "        counter += 1.\n",
    "                    \n",
    "print(f\"test_loss: {test_loss/counter}\")"
   ]
  },
  {
   "cell_type": "code",
   "execution_count": null,
   "id": "cb51f0b4",
   "metadata": {},
   "outputs": [],
   "source": []
  }
 ],
 "metadata": {
  "kernelspec": {
   "display_name": "Python 3 (ipykernel)",
   "language": "python",
   "name": "python3"
  },
  "language_info": {
   "codemirror_mode": {
    "name": "ipython",
    "version": 3
   },
   "file_extension": ".py",
   "mimetype": "text/x-python",
   "name": "python",
   "nbconvert_exporter": "python",
   "pygments_lexer": "ipython3",
   "version": "3.7.16"
  }
 },
 "nbformat": 4,
 "nbformat_minor": 5
}
